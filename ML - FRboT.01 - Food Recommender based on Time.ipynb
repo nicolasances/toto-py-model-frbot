{
 "cells": [
  {
   "cell_type": "markdown",
   "metadata": {},
   "source": [
    "# FRboT - Food Recommender based on Time\n",
    "This project aims at finding an algorithm that can find the **most probable aliment when building a meal for a specific time**. \n",
    "\n",
    "The problem statement is the following: \n",
    " * The user is creating a new meal\n",
    " * The user has inserted the time of the meal\n",
    " * When it selects the \"Add\" button, Toto will present the $n$ aliments that are the most probable **for that specific time**\n",
    "\n",
    "An example:<br/>\n",
    "The user has selected the time 6:30 AM. <br/>\n",
    "When the user clicks the \"Add\" button, the following aliments are going to be proposed:\n",
    " * Bacon slices\n",
    " * Eggs\n",
    " * Rugbrod boller"
   ]
  },
  {
   "cell_type": "markdown",
   "metadata": {},
   "source": [
    "---\n",
    "## Imports"
   ]
  },
  {
   "cell_type": "code",
   "execution_count": 1,
   "metadata": {},
   "outputs": [],
   "source": [
    "import numpy as np\n",
    "import requests as rq\n",
    "import pandas as pd\n",
    "from pandas.io.json import json_normalize\n",
    "import json\n",
    "import seaborn as sns\n",
    "import matplotlib.pyplot as plt\n",
    "import datetime\n",
    "import pickle\n",
    "\n",
    "from sklearn.linear_model import LogisticRegression\n",
    "from sklearn.neural_network import MLPClassifier\n",
    "from sklearn.model_selection import train_test_split\n",
    "from sklearn.metrics import f1_score, confusion_matrix\n",
    "from sklearn.preprocessing import StandardScaler\n",
    "import joblib\n",
    "\n",
    "sns.set_style('darkgrid')\n",
    "\n",
    "%matplotlib inline"
   ]
  },
  {
   "cell_type": "markdown",
   "metadata": {},
   "source": [
    "# Algorithm per aliment"
   ]
  },
  {
   "cell_type": "markdown",
   "metadata": {},
   "source": [
    "This algorithm **only works decently** when looking at the `predict_proba` of the model. \n",
    "\n",
    "Looking at the `predict_proba` values works well, because it is not the **chosen/not chosen** value that I should really be interested in, but the probability that the aliment could be chosen based on historical data, **compared to the probability of other aliments**. \n",
    "\n",
    "This means that the important is not the probability of a single aliment, but the probability of that aliment compared to the probabilities of the other aliments, since **I want to propose the 3 most probable aliments**. \n",
    "\n",
    "Examples for which this is easy to visualize are those aliments that that I'm **not eating consistently every day**, which means that the **synthetic data** that I create is going to be filling also probable hours. "
   ]
  },
  {
   "cell_type": "markdown",
   "metadata": {},
   "source": [
    "### One model per Aliment\n",
    "\n",
    "The algorithm will generate **one model per aliment** and they will all be **saved** with a specific pickle file, named with the **id of the aliment** (hash code)."
   ]
  },
  {
   "cell_type": "code",
   "execution_count": 107,
   "metadata": {},
   "outputs": [],
   "source": [
    "# Let's choose the aliment for which to train the algorithm\n",
    "# aliment = '5b39a79d6e167d0006a8168b' # Bacon (vores i skiver)\n",
    "# aliment = 'Bread Kohberg Rugbrød boller (1)' # WORKS WELL AFTER ADDING THE NEG EX ONLY AFTER ELEMENT APPEARS IN DATASET\n",
    "aliment = '5ad388741f0bb90007b41bff' # Eggs Fotex - WORKS WELL\n",
    "# aliment = 'Vores Kylling Brystfilet' # WORKS WELL\n",
    "# aliment = 'Rice Fuldkornris ris-fix\n",
    "# aliment = 'Urtekram Fusilli Wholegrain'\n",
    "# aliment = 'Broccoli (100gr)' \n",
    "# aliment = 'Cheasy mild skiveost 13%'\n",
    "# aliment = '5dfcb6f91cb33a00061eb167' (this aliment should be excluded (Farro) since there is not enough data)\n",
    "\n",
    "today = pd.Timestamp(2019, 12, 22)"
   ]
  },
  {
   "cell_type": "markdown",
   "metadata": {},
   "source": [
    "---\n",
    "## Data Preparation & Feature Engineering\n",
    "To convert the data from a json object to a Pandas Data Frame I followed the tutorial here:\n",
    "https://hackersandslackers.com/json-into-pandas-dataframes/ as well as the examples of the documentation.\n",
    "\n",
    "A few rules: \n",
    " * We are **excluding** aliments that have been **chosen less than $n_c$ times in the training dataset**\n",
    " * We are **engineering $2*n_pos$ positive examples** for each aliment. The positive examples are created in the time frame with the highest distribution of data for each aliment. The positive examples are **only generated in the last $d_d$ days** (for example in the last 30 days) so that we reinforce the aliments that have been chosen recently. \n",
    " * We are **engineering $n_n$ negative examples** for each aliment. "
   ]
  },
  {
   "cell_type": "code",
   "execution_count": 108,
   "metadata": {},
   "outputs": [],
   "source": [
    "nc = 20\n",
    "npos = 10\n",
    "dd = 30"
   ]
  },
  {
   "cell_type": "code",
   "execution_count": 109,
   "metadata": {},
   "outputs": [],
   "source": [
    "def save_aliments(distinct_aliments_ids): \n",
    "    distinct_aliments_ids.to_csv('aliments.csv')\n"
   ]
  },
  {
   "cell_type": "code",
   "execution_count": 110,
   "metadata": {},
   "outputs": [],
   "source": [
    "def prepare_generic_data(): \n",
    "    with open('meals.json') as json_file:\n",
    "        data = json.load(json_file)\n",
    "        \n",
    "    with open('foods.json') as json_file:\n",
    "        foods_data = json.load(json_file)\n",
    "\n",
    "    # Create the foods data and save it\n",
    "    foods = json_normalize(foods_data['foods'])\n",
    "\n",
    "    save_aliments(foods[['id', 'name']])\n",
    "\n",
    "    # Create the data\n",
    "    aliments_full = json_normalize(data['meals'], 'aliments', ['date', 'time'])\n",
    "\n",
    "    # Drop useless columns\n",
    "    aliments_full.drop(['amount', 'amountGr', 'amountMl'], axis=1, inplace=True)\n",
    "    \n",
    "    # Introduce hour and minutes\n",
    "    #aliments_full.loc[:,'hour'] = pd.to_numeric(aliments_full['time'].str.split(':').str[0])\n",
    "    #aliments_full.loc[:,'min'] = pd.to_numeric(aliments_full['time'].str.split(':').str[1])\n",
    "    aliments_full.loc[:,'time'] = pd.to_numeric(aliments_full['time'].str.split(':').str[0]) + pd.to_numeric(aliments_full['time'].str.split(':').str[1]) / 60\n",
    "    aliments_full.loc[:,'month'] = pd.to_datetime(aliments_full['date']).dt.month\n",
    "\n",
    "    # Define the day of the week\n",
    "    aliments_full.loc[:,'week_day'] = pd.to_datetime(aliments_full['date']).dt.weekday\n",
    "    \n",
    "    # Only keep the aliments that have enough data => chosen more than nc times\n",
    "    aliments_chosen_enough = aliments_full['id'].value_counts()[aliments_full['id'].value_counts() > nc].index\n",
    "    aliments_full = aliments_full[np.isin(aliments_full['id'], aliments_chosen_enough)]\n",
    "    \n",
    "    return aliments_full\n",
    "\n",
    "aliments_full = prepare_generic_data()"
   ]
  },
  {
   "cell_type": "code",
   "execution_count": 111,
   "metadata": {},
   "outputs": [],
   "source": [
    "def prepare_aliment_data(aliment_id): \n",
    "\n",
    "    # Only keep the chosen aliment\n",
    "    aliment_data = pd.DataFrame(aliments_full[aliments_full['id'] == aliment_id])\n",
    "    \n",
    "    # Define meta info on day of the week\n",
    "    def set_is_weekend(week_day): \n",
    "        if (week_day in [5, 6]): \n",
    "            return 1\n",
    "        return 0\n",
    "\n",
    "    # aliment_data.loc[:,'is_weekend'] = aliment_data['week_day'].apply(set_is_weekend)\n",
    "\n",
    "    # Chosen\n",
    "    aliment_data['chosen'] = 1\n",
    "    \n",
    "    return aliment_data\n",
    "\n",
    "aliment_data = prepare_aliment_data(aliment)"
   ]
  },
  {
   "cell_type": "code",
   "execution_count": 112,
   "metadata": {},
   "outputs": [],
   "source": [
    "def engineer_neg_examples(aliment_id, aliment_data): \n",
    "    # Synthesize negative examples\n",
    "    available_aliments = aliments_full['id'].unique()\n",
    "\n",
    "    neg_ex = pd.DataFrame()\n",
    "\n",
    "    # Let's start adding negative examples ONLY after the aliment has started being chosen for the first time\n",
    "    first_aliment_usage = aliment_data[aliment_data['chosen'] == 1]['date'].astype(int).min()\n",
    "\n",
    "    # Iterate over all days\n",
    "    for dt in aliments_full[aliments_full['date'].astype(int) >= first_aliment_usage]['date'].unique(): \n",
    "\n",
    "        # Get the rows corresponding to that specific week day\n",
    "        day_aliments = pd.DataFrame(aliments_full.loc[aliments_full['date'] == dt])\n",
    "\n",
    "        # Get the times of that dat for which the chosen aliment is NOT PRESENT\n",
    "        times_aliment_not_present = day_aliments[np.invert(np.isin(day_aliments['time'], day_aliments[day_aliments['id'] == aliment_id]['time']))]['time'].unique()\n",
    "        \n",
    "        if len(times_aliment_not_present) == 0: \n",
    "            continue\n",
    "\n",
    "        # Create a chosen=0 line for each of those times\n",
    "        ncl_df = pd.DataFrame(times_aliment_not_present, columns=['time'])\n",
    "        ncl_df.loc[:,'id'] = aliment\n",
    "        ncl_df.loc[:,'name'] = aliments_full[aliments_full['id'] == aliment_id]['name'].unique()[0]\n",
    "        ncl_df.loc[:,'date'] = dt\n",
    "        ncl_df.loc[:,'week_day'] = pd.to_datetime(dt).weekday()\n",
    "        ncl_df.loc[:,'month'] = int(dt[4:6])\n",
    "        ncl_df.loc[:,'chosen'] = 0\n",
    "\n",
    "        neg_ex = pd.concat([neg_ex, ncl_df], sort=False)\n",
    "\n",
    "    aliment_data = pd.concat([aliment_data, neg_ex], sort=False)\n",
    "\n",
    "    aliment_data[aliment_data['chosen'] == 0].head(1)\n",
    "    \n",
    "    return aliment_data\n",
    "\n",
    "aliment_data = engineer_neg_examples(aliment, aliment_data)"
   ]
  },
  {
   "cell_type": "code",
   "execution_count": 113,
   "metadata": {},
   "outputs": [],
   "source": [
    "def engineer_pos_examples(aliment_id, aliment_data, today):\n",
    "    # Synthesize positive examples based on the last 30 days: \n",
    "    # THAT WILL REINFORCE THE BEHAVIOUR OF THE LAST DAYS\n",
    "    # and help picking stuff that I've picked recently\n",
    "    date_from = today - datetime.timedelta(days=dd)\n",
    "\n",
    "    plus_data = pd.DataFrame()\n",
    "    minus_data = pd.DataFrame()\n",
    "\n",
    "    candidate_df = pd.DataFrame(aliment_data[(aliment_data['chosen'] == 1) & (pd.to_datetime(aliment_data['date']) > date_from)])\n",
    "\n",
    "    for i in range(1,npos): \n",
    "        plus_data = pd.DataFrame(candidate_df)\n",
    "        minus_data = pd.DataFrame(candidate_df)\n",
    "\n",
    "        plus_data.loc[:,'time'] = candidate_df.loc[:,'time'] + 0.01 * i\n",
    "        minus_data.loc[:,'time'] = candidate_df.loc[:,'time'] - 0.01 * i\n",
    "\n",
    "        aliment_data = pd.concat([aliment_data, plus_data, minus_data])\n",
    "        \n",
    "    return aliment_data\n",
    "\n",
    "aliment_data = engineer_pos_examples(aliment, aliment_data, today)"
   ]
  },
  {
   "cell_type": "markdown",
   "metadata": {},
   "source": [
    "---\n",
    "## Analysing the prepared data"
   ]
  },
  {
   "cell_type": "code",
   "execution_count": 114,
   "metadata": {},
   "outputs": [
    {
     "data": {
      "image/png": "[encoded data removed]",
      "text/plain": [
       "<Figure size 1440x720 with 4 Axes>"
      ]
     },
     "metadata": {
      "needs_background": "light"
     },
     "output_type": "display_data"
    }
   ],
   "source": [
    "max_time = 24\n",
    "min_time = 0\n",
    "\n",
    "data = aliment_data[(aliment_data['time'] < max_time) & (aliment_data['time'] > min_time)]\n",
    "\n",
    "fig, ax = plt.subplots(2,2, figsize=(20,10))\n",
    "sns.distplot(aliment_data[aliment_data['chosen'] == 1]['month'].astype(int), kde=False, ax=ax[0][0], bins=12)\n",
    "sns.countplot(data=data, x='chosen', ax=ax[0][1]).set_title('Amount of chosen vs not chosen')\n",
    "sns.distplot(aliment_data[aliment_data['chosen'] == 1]['time'], color='red', kde=False, ax=ax[1][0], bins=24).set_title('Distribution of positive (red) and negative (blue) examples')\n",
    "sns.distplot(aliment_data[aliment_data['chosen'] == 0]['time'], color='blue', kde=False, ax=ax[1][0], bins=24)\n",
    "sns.distplot(aliment_data[aliment_data['chosen'] == 1]['time'], color='red', kde=False, ax=ax[1][1], bins=24).set_title('Distribution of positive examples')\n",
    "\n",
    "plt.subplots_adjust(hspace=0.4)"
   ]
  },
  {
   "cell_type": "markdown",
   "metadata": {},
   "source": [
    "The distribution of the the positive vs negative examples shows that I've created a lot of synthetic data on top of positive hours. That, of course, is due to the fact that this aliment is not consistently eaten every day, but some days yes and some others no. "
   ]
  },
  {
   "cell_type": "markdown",
   "metadata": {},
   "source": [
    "---\n",
    "## Training "
   ]
  },
  {
   "cell_type": "code",
   "execution_count": 115,
   "metadata": {},
   "outputs": [
    {
     "name": "stdout",
     "output_type": "stream",
     "text": [
      "NN - Training  score: 0.9479227618490346\n",
      "NN - Cross Val score: 0.9438596491228071\n",
      "F1 SCORE on Cross Validation set:  0.9199999999999999\n"
     ]
    },
    {
     "data": {
      "image/png": "[encoded data removed]",
      "text/plain": [
       "<Figure size 432x288 with 2 Axes>"
      ]
     },
     "metadata": {
      "needs_background": "light"
     },
     "output_type": "display_data"
    }
   ],
   "source": [
    "def train(aliment_id, aliment_data, print_results=True): \n",
    "\n",
    "    features_tr, features_cv = train_test_split(aliment_data, test_size=0.25)\n",
    "\n",
    "    X = features_tr[['week_day', 'time']]\n",
    "    y = features_tr['chosen']\n",
    "\n",
    "    X_cv = features_cv[['week_day', 'time']]\n",
    "    y_cv = features_cv['chosen']\n",
    "\n",
    "    # Scaling \n",
    "    scaler = StandardScaler()\n",
    "    scaler.fit(X)\n",
    "\n",
    "    # SAVE the scaler\n",
    "    joblib.dump(scaler, aliment_id + '.scaler.sav')\n",
    "\n",
    "    X = scaler.transform(X)\n",
    "    X_cv = scaler.transform(X_cv)\n",
    "    \n",
    "    nn_classifier = MLPClassifier(solver='lbfgs', alpha=1e-5, hidden_layer_sizes=(10, 10)).fit(X, y)\n",
    "    \n",
    "    if (print_results):\n",
    "        print('NN - Training  score:', nn_classifier.score(X, y))\n",
    "        print('NN - Cross Val score:', nn_classifier.score(X_cv, y_cv))\n",
    "\n",
    "    y_pred = nn_classifier.predict(X_cv)\n",
    "\n",
    "    f1 = f1_score(y_cv, y_pred)\n",
    "\n",
    "    if (print_results):\n",
    "        print('F1 SCORE on Cross Validation set: ', f1)\n",
    "    \n",
    "        sns.heatmap(confusion_matrix(y_cv, y_pred), cmap='coolwarm', annot=True)\n",
    "    \n",
    "    # Save the model\n",
    "    filename = aliment_id + '.model.sav'\n",
    "    pickle.dump(nn_classifier, open(filename, 'wb'))\n",
    "\n",
    "train(aliment, aliment_data)"
   ]
  },
  {
   "cell_type": "markdown",
   "metadata": {},
   "source": [
    "---\n",
    "## Testing \n",
    "Test on manually engineered data"
   ]
  },
  {
   "cell_type": "code",
   "execution_count": 116,
   "metadata": {},
   "outputs": [
    {
     "name": "stdout",
     "output_type": "stream",
     "text": [
      "1    Egg ÆG Føtex\n",
      "Name: name, dtype: object\n"
     ]
    },
    {
     "data": {
      "image/png": "[encoded data removed]",
      "text/plain": [
       "<Figure size 1440x432 with 1 Axes>"
      ]
     },
     "metadata": {
      "needs_background": "light"
     },
     "output_type": "display_data"
    }
   ],
   "source": [
    "def test(aliment_id, print_results=True, week_day=1):\n",
    "\n",
    "    generic_data = prepare_generic_data()\n",
    "    \n",
    "    aliment_name = generic_data.loc[generic_data['id'] == aliment_id, 'name'].head(1)\n",
    "\n",
    "    test_data = pd.DataFrame(np.linspace(0, 24, 50), columns=['time'])\n",
    "    test_data.loc[:,'week_day'] = week_day\n",
    "    test_data.loc[:,'month'] = 12\n",
    "\n",
    "    X_test = test_data[['week_day', 'time']]\n",
    "\n",
    "    # Load scaler and model\n",
    "    scaler = joblib.load(aliment_id + '.scaler.sav')\n",
    "    loaded_model = pickle.load(open(aliment_id + \".model.sav\", 'rb'))\n",
    "    \n",
    "    X_test = scaler.transform(X_test)\n",
    "\n",
    "    y_pred_test = loaded_model.predict_proba(X_test)\n",
    "\n",
    "    df = pd.DataFrame(y_pred_test, columns=['0', '1'])\n",
    "    df['i'] = df.index * 24 / 50\n",
    "    \n",
    "    print(aliment_name)\n",
    "\n",
    "    if (print_results):\n",
    "        plt.figure(figsize=(20,6))\n",
    "        sns.scatterplot(data=df, x='i', y='1', hue='1')\n",
    "        \n",
    "    \n",
    "test(aliment)"
   ]
  },
  {
   "cell_type": "markdown",
   "metadata": {},
   "source": [
    "---\n",
    "---\n",
    "\n",
    "# Full Training\n",
    "\n",
    "This training process will generate **one model per aliment** \n"
   ]
  },
  {
   "cell_type": "code",
   "execution_count": 119,
   "metadata": {},
   "outputs": [
    {
     "name": "stdout",
     "output_type": "stream",
     "text": [
      "1/52 - Aliment 5b39a79d6e167d0006a8168b: Data preparation\n",
      "1/52 - Aliment 5b39a79d6e167d0006a8168b: Training\n",
      "2/52 - Aliment 5ad388741f0bb90007b41bff: Data preparation\n",
      "2/52 - Aliment 5ad388741f0bb90007b41bff: Training\n",
      "3/52 - Aliment 5b2a9c156e167d0006a8162d: Data preparation\n",
      "3/52 - Aliment 5b2a9c156e167d0006a8162d: Training\n",
      "4/52 - Aliment 5b049b00630c7f0007fa851d: Data preparation\n",
      "4/52 - Aliment 5b049b00630c7f0007fa851d: Training\n"
     ]
    },
    {
     "name": "stderr",
     "output_type": "stream",
     "text": [
      "/Users/nicolas/anaconda3/lib/python3.7/site-packages/sklearn/metrics/classification.py:1437: UndefinedMetricWarning: F-score is ill-defined and being set to 0.0 due to no predicted samples.\n",
      "  'precision', 'predicted', average, warn_for)\n"
     ]
    },
    {
     "name": "stdout",
     "output_type": "stream",
     "text": [
      "5/52 - Aliment 5b3527386e167d0006a8166e: Data preparation\n",
      "5/52 - Aliment 5b3527386e167d0006a8166e: Training\n",
      "6/52 - Aliment 5ad2237f1f0bb90007b41bee: Data preparation\n",
      "6/52 - Aliment 5ad2237f1f0bb90007b41bee: Training\n",
      "7/52 - Aliment 5b26c7d66e167d0006a81611: Data preparation\n",
      "7/52 - Aliment 5b26c7d66e167d0006a81611: Training\n",
      "8/52 - Aliment 5c052ffbbda1fa0007652e6c: Data preparation\n",
      "8/52 - Aliment 5c052ffbbda1fa0007652e6c: Training\n",
      "9/52 - Aliment 5b28a93b6e167d0006a8161b: Data preparation\n",
      "9/52 - Aliment 5b28a93b6e167d0006a8161b: Training\n",
      "10/52 - Aliment 5adced56799f2e000778fbe6: Data preparation\n",
      "10/52 - Aliment 5adced56799f2e000778fbe6: Training\n",
      "11/52 - Aliment 5bc711678c1add000773cce4: Data preparation\n",
      "11/52 - Aliment 5bc711678c1add000773cce4: Training\n",
      "12/52 - Aliment 5acdee121f0bb90007b41bc4: Data preparation\n",
      "12/52 - Aliment 5acdee121f0bb90007b41bc4: Training\n",
      "13/52 - Aliment 5c2cf4c022cdc00007a4bc94: Data preparation\n",
      "13/52 - Aliment 5c2cf4c022cdc00007a4bc94: Training\n",
      "14/52 - Aliment 5be6da8fe6aee70008a0df7b: Data preparation\n"
     ]
    },
    {
     "name": "stderr",
     "output_type": "stream",
     "text": [
      "/Users/nicolas/anaconda3/lib/python3.7/site-packages/sklearn/metrics/classification.py:1437: UndefinedMetricWarning: F-score is ill-defined and being set to 0.0 due to no predicted samples.\n",
      "  'precision', 'predicted', average, warn_for)\n"
     ]
    },
    {
     "name": "stdout",
     "output_type": "stream",
     "text": [
      "14/52 - Aliment 5be6da8fe6aee70008a0df7b: Training\n",
      "15/52 - Aliment 5af6fec3630c7f0007fa8493: Data preparation\n",
      "15/52 - Aliment 5af6fec3630c7f0007fa8493: Training\n",
      "16/52 - Aliment 5b8e64d46e167d0006a81829: Data preparation\n",
      "16/52 - Aliment 5b8e64d46e167d0006a81829: Training\n",
      "17/52 - Aliment 5b24c37f6e167d0006a815fa: Data preparation\n",
      "17/52 - Aliment 5b24c37f6e167d0006a815fa: Training\n",
      "18/52 - Aliment 5b255ff36e167d0006a81602: Data preparation\n",
      "18/52 - Aliment 5b255ff36e167d0006a81602: Training\n",
      "19/52 - Aliment 5ad76f881f0bb90007b41c29: Data preparation\n",
      "19/52 - Aliment 5ad76f881f0bb90007b41c29: Training\n",
      "20/52 - Aliment 5b4f8f9b6e167d0006a8171b: Data preparation\n"
     ]
    },
    {
     "name": "stderr",
     "output_type": "stream",
     "text": [
      "/Users/nicolas/anaconda3/lib/python3.7/site-packages/sklearn/metrics/classification.py:1437: UndefinedMetricWarning: F-score is ill-defined and being set to 0.0 due to no predicted samples.\n",
      "  'precision', 'predicted', average, warn_for)\n"
     ]
    },
    {
     "name": "stdout",
     "output_type": "stream",
     "text": [
      "20/52 - Aliment 5b4f8f9b6e167d0006a8171b: Training\n",
      "21/52 - Aliment 5b956ea27471830008bddf11: Data preparation\n",
      "21/52 - Aliment 5b956ea27471830008bddf11: Training\n"
     ]
    },
    {
     "name": "stderr",
     "output_type": "stream",
     "text": [
      "/Users/nicolas/anaconda3/lib/python3.7/site-packages/sklearn/metrics/classification.py:1437: UndefinedMetricWarning: F-score is ill-defined and being set to 0.0 due to no predicted samples.\n",
      "  'precision', 'predicted', average, warn_for)\n"
     ]
    },
    {
     "name": "stdout",
     "output_type": "stream",
     "text": [
      "22/52 - Aliment 5b2562096e167d0006a81605: Data preparation\n",
      "22/52 - Aliment 5b2562096e167d0006a81605: Training\n",
      "23/52 - Aliment 5b2927986e167d0006a81621: Data preparation\n",
      "23/52 - Aliment 5b2927986e167d0006a81621: Training\n",
      "24/52 - Aliment 5b2948396e167d0006a81623: Data preparation\n",
      "24/52 - Aliment 5b2948396e167d0006a81623: Training\n",
      "25/52 - Aliment 5b376d956e167d0006a81680: Data preparation\n",
      "25/52 - Aliment 5b376d956e167d0006a81680: Training\n",
      "26/52 - Aliment 5aedc0fa630c7f0007fa8432: Data preparation\n",
      "26/52 - Aliment 5aedc0fa630c7f0007fa8432: Training\n",
      "27/52 - Aliment 5acbc2981f0bb90007b41ba6: Data preparation\n",
      "27/52 - Aliment 5acbc2981f0bb90007b41ba6: Training\n"
     ]
    },
    {
     "name": "stderr",
     "output_type": "stream",
     "text": [
      "/Users/nicolas/anaconda3/lib/python3.7/site-packages/sklearn/metrics/classification.py:1437: UndefinedMetricWarning: F-score is ill-defined and being set to 0.0 due to no predicted samples.\n",
      "  'precision', 'predicted', average, warn_for)\n"
     ]
    },
    {
     "name": "stdout",
     "output_type": "stream",
     "text": [
      "28/52 - Aliment 5b4b7fcd6e167d0006a816fb: Data preparation\n",
      "28/52 - Aliment 5b4b7fcd6e167d0006a816fb: Training\n",
      "29/52 - Aliment 5b25175e6e167d0006a815fe: Data preparation\n",
      "29/52 - Aliment 5b25175e6e167d0006a815fe: Training\n",
      "30/52 - Aliment 5c32019922cdc00007a4bcb3: Data preparation\n",
      "30/52 - Aliment 5c32019922cdc00007a4bcb3: Training\n",
      "31/52 - Aliment 5bcc8890e6aee70008a0dee5: Data preparation\n",
      "31/52 - Aliment 5bcc8890e6aee70008a0dee5: Training\n",
      "32/52 - Aliment 5ae37d88799f2e000778fc2e: Data preparation\n",
      "32/52 - Aliment 5ae37d88799f2e000778fc2e: Training\n",
      "33/52 - Aliment 5ad09a4e1f0bb90007b41bde: Data preparation\n",
      "33/52 - Aliment 5ad09a4e1f0bb90007b41bde: Training\n",
      "34/52 - Aliment 5b263db86e167d0006a81609: Data preparation\n",
      "34/52 - Aliment 5b263db86e167d0006a81609: Training\n",
      "35/52 - Aliment 5b3630596e167d0006a81677: Data preparation\n",
      "35/52 - Aliment 5b3630596e167d0006a81677: Training\n",
      "36/52 - Aliment 5b3679796e167d0006a8167c: Data preparation\n",
      "36/52 - Aliment 5b3679796e167d0006a8167c: Training\n",
      "37/52 - Aliment 5ae759d6630c7f0007fa83f3: Data preparation\n",
      "37/52 - Aliment 5ae759d6630c7f0007fa83f3: Training\n",
      "38/52 - Aliment 5b2560866e167d0006a81603: Data preparation\n",
      "38/52 - Aliment 5b2560866e167d0006a81603: Training\n",
      "39/52 - Aliment 5ae99558630c7f0007fa8403: Data preparation\n",
      "39/52 - Aliment 5ae99558630c7f0007fa8403: Training\n",
      "40/52 - Aliment 5af030b6630c7f0007fa844c: Data preparation\n",
      "40/52 - Aliment 5af030b6630c7f0007fa844c: Training\n",
      "41/52 - Aliment 5c42dbb822cdc00007a4bd1b: Data preparation\n",
      "41/52 - Aliment 5c42dbb822cdc00007a4bd1b: Training\n",
      "42/52 - Aliment 5acbbf491f0bb90007b41ba2: Data preparation\n",
      "42/52 - Aliment 5acbbf491f0bb90007b41ba2: Training\n",
      "43/52 - Aliment 5c48c37822cdc00007a4bd4a: Data preparation\n",
      "43/52 - Aliment 5c48c37822cdc00007a4bd4a: Training\n",
      "44/52 - Aliment 5af9cf4b630c7f0007fa84b4: Data preparation\n",
      "44/52 - Aliment 5af9cf4b630c7f0007fa84b4: Training\n",
      "45/52 - Aliment 5acbc1d81f0bb90007b41ba4: Data preparation\n"
     ]
    },
    {
     "name": "stderr",
     "output_type": "stream",
     "text": [
      "/Users/nicolas/anaconda3/lib/python3.7/site-packages/sklearn/metrics/classification.py:1437: UndefinedMetricWarning: F-score is ill-defined and being set to 0.0 due to no predicted samples.\n",
      "  'precision', 'predicted', average, warn_for)\n"
     ]
    },
    {
     "name": "stdout",
     "output_type": "stream",
     "text": [
      "45/52 - Aliment 5acbc1d81f0bb90007b41ba4: Training\n",
      "46/52 - Aliment 5b392a2e6e167d0006a81688: Data preparation\n",
      "46/52 - Aliment 5b392a2e6e167d0006a81688: Training\n"
     ]
    },
    {
     "name": "stderr",
     "output_type": "stream",
     "text": [
      "/Users/nicolas/anaconda3/lib/python3.7/site-packages/sklearn/metrics/classification.py:1437: UndefinedMetricWarning: F-score is ill-defined and being set to 0.0 due to no predicted samples.\n",
      "  'precision', 'predicted', average, warn_for)\n"
     ]
    },
    {
     "name": "stdout",
     "output_type": "stream",
     "text": [
      "47/52 - Aliment 5c6035ab22cdc00007a4bdd2: Data preparation\n",
      "47/52 - Aliment 5c6035ab22cdc00007a4bdd2: Training\n",
      "48/52 - Aliment 5c1fea8a22cdc00007a4bc5c: Data preparation\n"
     ]
    },
    {
     "name": "stderr",
     "output_type": "stream",
     "text": [
      "/Users/nicolas/anaconda3/lib/python3.7/site-packages/sklearn/metrics/classification.py:1437: UndefinedMetricWarning: F-score is ill-defined and being set to 0.0 due to no predicted samples.\n",
      "  'precision', 'predicted', average, warn_for)\n"
     ]
    },
    {
     "name": "stdout",
     "output_type": "stream",
     "text": [
      "48/52 - Aliment 5c1fea8a22cdc00007a4bc5c: Training\n",
      "49/52 - Aliment 5c795b5cea3a3e0006d2160c: Data preparation\n",
      "49/52 - Aliment 5c795b5cea3a3e0006d2160c: Training\n",
      "50/52 - Aliment 5bbaf5fb7471830008bddfd1: Data preparation\n"
     ]
    },
    {
     "name": "stderr",
     "output_type": "stream",
     "text": [
      "/Users/nicolas/anaconda3/lib/python3.7/site-packages/sklearn/metrics/classification.py:1437: UndefinedMetricWarning: F-score is ill-defined and being set to 0.0 due to no predicted samples.\n",
      "  'precision', 'predicted', average, warn_for)\n"
     ]
    },
    {
     "name": "stdout",
     "output_type": "stream",
     "text": [
      "50/52 - Aliment 5bbaf5fb7471830008bddfd1: Training\n",
      "51/52 - Aliment 5ade175d799f2e000778fbf3: Data preparation\n",
      "51/52 - Aliment 5ade175d799f2e000778fbf3: Training\n",
      "52/52 - Aliment 5d471bb5ea68390006955657: Data preparation\n"
     ]
    },
    {
     "name": "stderr",
     "output_type": "stream",
     "text": [
      "/Users/nicolas/anaconda3/lib/python3.7/site-packages/sklearn/metrics/classification.py:1437: UndefinedMetricWarning: F-score is ill-defined and being set to 0.0 due to no predicted samples.\n",
      "  'precision', 'predicted', average, warn_for)\n"
     ]
    },
    {
     "name": "stdout",
     "output_type": "stream",
     "text": [
      "52/52 - Aliment 5d471bb5ea68390006955657: Training\n",
      "Done!\n"
     ]
    }
   ],
   "source": [
    "today = pd.Timestamp(2019, 12, 22)\n",
    "\n",
    "# Prepare the generic dataset\n",
    "aliments_full = prepare_generic_data()\n",
    "\n",
    "# Iterate per aliment\n",
    "i = 1\n",
    "l = len(distinct_aliments)\n",
    "for aliment_id in distinct_aliments: \n",
    "    \n",
    "    print(\"{i}/{l} - Aliment {a}: Data preparation\".format(i=i, l=l, a=aliment_id))\n",
    "\n",
    "    aliment_data = prepare_aliment_data(aliment_id)\n",
    "    aliment_data = engineer_neg_examples(aliment_id, aliment_data)\n",
    "    aliment_data = engineer_pos_examples(aliment_id, aliment_data, today)\n",
    "    \n",
    "    print(\"{i}/{l} - Aliment {a}: Training\".format(i=i, l=l, a=aliment_id))\n",
    "    \n",
    "    train(aliment_id, aliment_data, print_results=False)\n",
    "    \n",
    "    i += 1\n",
    "    \n",
    "print(\"Done!\")"
   ]
  },
  {
   "cell_type": "markdown",
   "metadata": {},
   "source": [
    "### Test"
   ]
  },
  {
   "cell_type": "code",
   "execution_count": 189,
   "metadata": {
    "scrolled": true
   },
   "outputs": [
    {
     "name": "stdout",
     "output_type": "stream",
     "text": [
      "107    Greek yogurt athena 2%\n",
      "Name: name, dtype: object\n"
     ]
    },
    {
     "data": {
      "image/png": "[encoded data removed]",
      "text/plain": [
       "<Figure size 1440x432 with 1 Axes>"
      ]
     },
     "metadata": {
      "needs_background": "light"
     },
     "output_type": "display_data"
    }
   ],
   "source": [
    "# test('5b49bd066e167d0006a816ee') # Bread mørke multikerne boller\n",
    "# test('5b2a9c156e167d0006a8162d') # Mandorle\n",
    "# test('5b049b00630c7f0007fa851d') # Beer\n",
    "# test('5b3527386e167d0006a8166e') # Carots\n",
    "# test('5ad2237f1f0bb90007b41bee') # Banana\n",
    "# test('5b26c7d66e167d0006a81611') # Milk Vores Let Maelk\n",
    "# test('5c052ffbbda1fa0007652e6c') # Puori Whey\n",
    "# test('5b28a93b6e167d0006a8161b') # Bread rye generic\n",
    "# test('5adced56799f2e000778fbe6') # Cheasy mild skiveost 13%\n",
    "# test('5bc711678c1add000773cce4') # Olive\n",
    "# test('5b39a79d6e167d0006a8168b', week_day=5) # Bacon (vores i skiver)\n",
    "# test('5b39a79d6e167d0006a8168b', week_day=1) # Bacon (vores i skiver) \n",
    "test('5b25175e6e167d0006a815fe')\n"
   ]
  },
  {
   "cell_type": "markdown",
   "metadata": {},
   "source": [
    "\n",
    "\n",
    "---\n",
    "---\n",
    "\n",
    "# Proposing most probable aliments based on time\n",
    "\n",
    "The goal of the model was, **given a time**, to propose the $n$ most probable aliments. \n",
    "\n",
    "To do that we need to : \n",
    " * Load in memory all possible aliments (only the ids)\n",
    " * Load in memory all the models\n",
    " * Give a time, run all predictions\n",
    " * Sort the highest ranking predictions\n",
    " * Pick the first $n$"
   ]
  },
  {
   "cell_type": "code",
   "execution_count": 5,
   "metadata": {},
   "outputs": [
    {
     "name": "stdout",
     "output_type": "stream",
     "text": [
      "Missing models for the following aliments: ['5b97e7687471830008bddf1e', '5c71909722cdc00007a4be5a', '5b339a0d6e167d0006a81662', '5b5d970d6e167d0006a81771', '5df76e3a1cb33a00061eb148', '5b2b96b96e167d0006a81633', '5b123e05630c7f0007fa85a2', '5b26ad1a6e167d0006a8160f', '5b0a6c70630c7f0007fa8554', '5af7db56630c7f0007fa849e', '5b5c1cc96e167d0006a81765', '5d18f7c29f8a080006d661fd', '5cba2545ea3a3e0006d217dc', '5c3ceb2c22cdc00007a4bcfb', '5aecc91d630c7f0007fa8427', '5ae9771c630c7f0007fa83fe', '5c97bc94ea3a3e0006d216ec', '5b409f1f6e167d0006a816bc', '5c6c4b8e22cdc00007a4be31', '5cefe3809f8a080006d66124', '5c3997cd22cdc00007a4bce5', '5c3d592e22cdc00007a4bcfd', '5bba60797471830008bddfcf', '5ba7d9aa7471830008bddf76', '5b49bd066e167d0006a816ee', '5c719e4322cdc00007a4be5d', '5c310e5722cdc00007a4bcae', '5c1e3f6c22cdc00007a4bc57', '5ad2661a1f0bb90007b41bf2', '5b3d0e7d6e167d0006a816a7', '5ca90dc4ea3a3e0006d2176a', '5bd2206ee6aee70008a0df09', '5b3a079b6e167d0006a81690', '5c0f7fa6bda1fa0007652ea9', '5b952a327471830008bddf0e', '5b0082d4630c7f0007fa84f9', '5c0d8af0bda1fa0007652ea6', '5c11408c22cdc00007a4bc2b', '5ad266ec1f0bb90007b41bf3', '5acbbf921f0bb90007b41ba3', '5bb3c3957471830008bddfb5', '5dd79e351cb33a00061eb0a2', '5c718bc622cdc00007a4be58', '5b3399e86e167d0006a81661', '5c3a6ee122cdc00007a4bcee', '5cdf17e9e423b000066f9776', '5cde9f13e423b000066f9773', '5c1b90ad22cdc00007a4bc4b', '5b59da2c6e167d0006a81754', '5b5b2d6e6e167d0006a8175f', '5b5b16066e167d0006a8175b', '5ce28368e423b000066f9782', '5b93f0207471830008bddf09', '5b4f2d966e167d0006a81716', '5c8b8b2dea3a3e0006d21696', '5bf2db2de6aee70008a0dfbc', '5c9a1ec8ea3a3e0006d216fd', '5c9a1f05ea3a3e0006d216ff', '5c44c33022cdc00007a4bd2a', '5c10d2cfbda1fa0007652eb6', '5c1661db22cdc00007a4bc3e', '5acd0d4d1f0bb90007b41bbc', '5d5c4185ea683900069556b2', '5b3679296e167d0006a8167b', '5be8837de6aee70008a0df86', '5cc56f07ea3a3e0006d21816', '5dfcb6f91cb33a00061eb167', '5b3630346e167d0006a81676', '5e071d811cb33a00061eb18c', '5b0ef858630c7f0007fa8587', '5affe735630c7f0007fa84ee', '5ce03bc4e423b000066f977a', '5dd939f51cb33a00061eb0a5', '5b35049e6e167d0006a8166a', '5ca4f18dea3a3e0006d2174d', '5b82f3826e167d0006a817ed', '5c9a1f12ea3a3e0006d21700', '5bc5d69e8c1add000773ccd7', '5c556ad222cdc00007a4bd88', '5d26320b9f8a080006d66254', '5cf89be89f8a080006d66155', '5bbddbe87471830008bddfe0', '5c71990822cdc00007a4be5c', '5b16b7c8630c7f0007fa85d8', '5c1624c822cdc00007a4bc3a', '5c3a6e4022cdc00007a4bced', '5b1c04da630c7f0007fa8611', '5ba63fc97471830008bddf6d', '5bbe3dcb7471830008bddfe5', '5c7aebd8ea3a3e0006d21614', '5ddc215c1cb33a00061eb0bc', '5c92a4a9ea3a3e0006d216cb', '5dda33ed1cb33a00061eb0ad', '5d5110d2ea6839000695568d', '5ce0285de423b000066f9779', '5afecbbf630c7f0007fa84e7', '5d9e2b86ea683900069557f2', '5d8e5d07ea68390006955797', '5cc36b1cea3a3e0006d2180e', '5df36fcf1cb33a00061eb136', '5c842640ea3a3e0006d21658', '5c16072b22cdc00007a4bc39', '5acbc22b1f0bb90007b41ba5', '5b0afecc630c7f0007fa855f', '5b1ad71a630c7f0007fa8600', '5bbef2677471830008bddfe8', '5c855a54ea3a3e0006d21660', '5b019a5b630c7f0007fa8505', '5bf1ae71e6aee70008a0dfb6', '5bf1b8d6e6aee70008a0dfb7', '5b019b44630c7f0007fa8506', '5c3c28e822cdc00007a4bcf3', '5bd380d0e6aee70008a0df10', '5caa373aea3a3e0006d21770', '5b2fcb2f6e167d0006a8164c', '5be9e7b2e6aee70008a0df8d', '5b425ab26e167d0006a816c8', '5bcc885ce6aee70008a0dee4', '5b1ad7aa630c7f0007fa8601', '5b425a286e167d0006a816c7', '5b64c62b6e167d0006a817a4', '5b3f403c6e167d0006a816b3', '5b141c73630c7f0007fa85be', '5bd17b01e6aee70008a0df04', '5b5cedc56e167d0006a8176e', '5bc8b3fd8c1add000773ccee', '5c7817abea3a3e0006d215ff', '5ba7bd8e7471830008bddf74', '5c1140f722cdc00007a4bc2c', '5dbd6c541cb33a00061eb03b', '5c71b62c22cdc00007a4be60', '5bd22023e6aee70008a0df08', '5b34fda16e167d0006a81668', '5dda337e1cb33a00061eb0ab', '5adca5df799f2e000778fbdd', '5c13635b22cdc00007a4bc33', '5b012a87630c7f0007fa84fc', '5bdef84ee6aee70008a0df4d', '5b5c1da46e167d0006a81767', '5c9a2167ea3a3e0006d21702', '5c9a1fffea3a3e0006d21701', '5b327fa46e167d0006a81659', '5b891a316e167d0006a81810', '5ad300571f0bb90007b41bf5', '5c99cf99ea3a3e0006d216f7', '5b58b2b56e167d0006a8174e', '5bb27fda7471830008bddfaf', '5c0f800ebda1fa0007652eaa', '5c73d82fea3a3e0006d215da', '5ae5cd4c630c7f0007fa83dd', '5be20726e6aee70008a0df5f', '5c25c04f22cdc00007a4bc78', '5b561b076e167d0006a81740', '5b05b239630c7f0007fa8525', '5bc9c6808c1add000773ccf7', '5d851ffaea6839000695576c', '5d8f7f64ea6839000695579f', '5ae9544d630c7f0007fa83fb', '5b3510376e167d0006a8166c', '5aeb0ccd630c7f0007fa8416', '5b69e55f6e167d0006a817c2', '5afe6d8a630c7f0007fa84e2', '5c351fed22cdc00007a4bcc9', '5b4f2d4d6e167d0006a81715', '5d7736ceea68390006955726', '5b3372146e167d0006a8165e', '5b3b58366e167d0006a81699', '5babcba57471830008bddf8b', '5b015a67630c7f0007fa8500', '5af5d043630c7f0007fa8488', '5c446f5f22cdc00007a4bd26', '5c71582522cdc00007a4be54', '5acbc2f91f0bb90007b41ba8', '5ae5cdf5630c7f0007fa83de', '5c2d038722cdc00007a4bc96', '5bddb4f3e6aee70008a0df49', '5acbc2c61f0bb90007b41ba7', '5ad34f081f0bb90007b41bf9', '5af70f43630c7f0007fa8496', '5ae74882630c7f0007fa83f0', '5d276c6e9f8a080006d6625c', '5ddc21e81cb33a00061eb0bd', '5b1d724c630c7f0007fa861d', '5b46de196e167d0006a816df', '5aed63cd630c7f0007fa842b', '5b956aa67471830008bddf10', '5b40dfb36e167d0006a816bf', '5b58e51a6e167d0006a81750', '5c0fd85bbda1fa0007652eb0', '5c106b5cbda1fa0007652eb3', '5c0fd798bda1fa0007652eaf', '5c106bcdbda1fa0007652eb4', '5cc42bf8ea3a3e0006d21812', '5b1d7b6a630c7f0007fa8621', '5c7198d322cdc00007a4be5b', '5b5e2ffe6e167d0006a81777', '5c8e7b5cea3a3e0006d216a7', '5af737df630c7f0007fa849b', '5af5cfbf630c7f0007fa8487', '5b141a64630c7f0007fa85bd', '5c24e7e322cdc00007a4bc76', '5b3f45276e167d0006a816b4', '5afecdeb630c7f0007fa84ea', '5b06df22630c7f0007fa8530', '5c72f088ea3a3e0006d215d4', '5b6357786e167d0006a81799', '5db5924f1cb33a00061eb00b', '5bc4da3b8c1add000773cccf', '5b4f8f156e167d0006a8171a', '5afee5ee630c7f0007fa84ec', '5b61833d6e167d0006a8178b', '5acbbeb41f0bb90007b41ba1', '5ad784021f0bb90007b41c2d', '5b561a3f6e167d0006a8173f', '5acf6da41f0bb90007b41bd3', '5b5c1d656e167d0006a81766', '5be207e6e6aee70008a0df60', '5b3f51f06e167d0006a816b5', '5acd09981f0bb90007b41bb7', '5aca5fe91f0bb90007b41b9a', '5b26a7c26e167d0006a8160e', '5adf58ba799f2e000778fc02', '5aef5b2e630c7f0007fa8444', '5ad8d3a11f0bb90007b41c3a', '5ace5c711f0bb90007b41bc9', '5bf92cabbda1fa0007652e1e', '5c46156422cdc00007a4bd39', '5bf97888bda1fa0007652e22', '5d52c16aea68390006955692', '5b5b875a6e167d0006a81762', '5b5b2c286e167d0006a8175d', '5ad9e3a41f0bb90007b41c46', '5adf1176799f2e000778fbfa', '5b17ff0a630c7f0007fa85e2', '5ae06c7f799f2e000778fc0e', '5addb868799f2e000778fbed', '5ae1af78799f2e000778fc1c', '5af1addd630c7f0007fa845b', '5b06921e630c7f0007fa852d', '5adf10f9799f2e000778fbf9', '5afd5c06630c7f0007fa84d9', '5ad87b6a1f0bb90007b41c34', '5b4ca7806e167d0006a81703', '5adf1072799f2e000778fbf8', '5b0d3c55630c7f0007fa8574', '5b3a06f16e167d0006a8168f']\n"
     ]
    }
   ],
   "source": [
    "# Load in memory the available aliments (ids)\n",
    "aliments_ids = pd.read_csv('aliments.csv')\n",
    "\n",
    "# Load in memory all the models \n",
    "models = dict()\n",
    "missing_models = []\n",
    "for aid in aliments_ids['id']:\n",
    "    \n",
    "    try: \n",
    "        # Load scaler and model\n",
    "        scaler = joblib.load(aid + '.scaler.sav')\n",
    "        loaded_model = pickle.load(open(aid + \".model.sav\", 'rb'))\n",
    "\n",
    "        models[aid] = [scaler, loaded_model]\n",
    "    except FileNotFoundError:\n",
    "        missing_models.append(aid)\n",
    "\n",
    "if (len(missing_models) > 0): \n",
    "    print(\"Missing models for the following aliments: {0}\".format(missing_models))"
   ]
  },
  {
   "cell_type": "code",
   "execution_count": 6,
   "metadata": {},
   "outputs": [],
   "source": [
    "def predict(time, week_day, n=3): \n",
    "    '''\n",
    "    Predict the n most probable aliments for the specified time\n",
    "    time     : a string formatted as 'hh:mm'. E.g. 06:30 or 12:32 or 23:03\n",
    "    week_day : an integer representing the day of the week, ranging from 0 (Monday) to 6 (Sunday)\n",
    "    n        : the number of aliments to be returned (default 3)\n",
    "    '''\n",
    "    # Parse the time\n",
    "    hour = int(time.split(':')[0])\n",
    "    minute = int(time.split(':')[1])\n",
    "    \n",
    "    t = hour + (minute/60)\n",
    "    \n",
    "    features = np.array([[week_day, t]])\n",
    "    \n",
    "    predictions = pd.DataFrame()\n",
    "    \n",
    "    # Run all predictions for that time\n",
    "    for aid in aliments_ids['id']:\n",
    "        \n",
    "        try:\n",
    "            scaler = models[aid][0]\n",
    "            model = models[aid][1]\n",
    "\n",
    "            X = scaler.transform(features)\n",
    "\n",
    "            y_pred = model.predict_proba(X)\n",
    "\n",
    "            predicted = pd.DataFrame(np.array([[float(y_pred[0][1])]]), columns=['proba'], dtype=float)\n",
    "            predicted['aliment_id'] = aid\n",
    "\n",
    "            predictions = pd.concat([predictions, predicted], sort=False, ignore_index=True)\n",
    "\n",
    "        except KeyError:\n",
    "            pass\n",
    "        \n",
    "    \n",
    "    # Extract the n highest proba\n",
    "    highest_ranking = predictions.sort_values(by='proba', ascending=False).head(n)\n",
    "    \n",
    "    return highest_ranking\n",
    "\n",
    "def predict_aliment(aid, time, week_day): \n",
    "    '''\n",
    "    Predict the \"chosen\" probability of the given aliment\n",
    "    aid      : aliment_id\n",
    "    time     : a string formatted as 'hh:mm'. E.g. 06:30 or 12:32 or 23:03\n",
    "    week_day : an integer representing the day of the week, ranging from 0 (Monday) to 6 (Sunday)\n",
    "    '''\n",
    "    # Parse the time\n",
    "    hour = int(time.split(':')[0])\n",
    "    minute = int(time.split(':')[1])\n",
    "    \n",
    "    t = hour + (minute/60)\n",
    "    \n",
    "    X = np.array([[week_day, t]])\n",
    "    \n",
    "    predictions = pd.DataFrame()\n",
    "    \n",
    "    scaler = models[aid][0]\n",
    "    model = models[aid][1]\n",
    "\n",
    "    X = scaler.transform(X)\n",
    "\n",
    "    y_pred = model.predict_proba(X)\n",
    "\n",
    "    predicted = pd.DataFrame(np.array([[float(y_pred[0][1])]]), columns=['proba'], dtype=float)\n",
    "    predicted['aliment_id'] = aid\n",
    "\n",
    "    return predicted\n"
   ]
  },
  {
   "cell_type": "code",
   "execution_count": 16,
   "metadata": {},
   "outputs": [
    {
     "data": {
      "text/html": [
       "<div>\n",
       "<style scoped>\n",
       "    .dataframe tbody tr th:only-of-type {\n",
       "        vertical-align: middle;\n",
       "    }\n",
       "\n",
       "    .dataframe tbody tr th {\n",
       "        vertical-align: top;\n",
       "    }\n",
       "\n",
       "    .dataframe thead th {\n",
       "        text-align: right;\n",
       "    }\n",
       "</style>\n",
       "<table border=\"1\" class=\"dataframe\">\n",
       "  <thead>\n",
       "    <tr style=\"text-align: right;\">\n",
       "      <th></th>\n",
       "      <th>proba</th>\n",
       "      <th>aliment_id</th>\n",
       "      <th>name</th>\n",
       "    </tr>\n",
       "  </thead>\n",
       "  <tbody>\n",
       "    <tr>\n",
       "      <th>0</th>\n",
       "      <td>0.663112</td>\n",
       "      <td>5b3527386e167d0006a8166e</td>\n",
       "      <td>Carots (100gr)</td>\n",
       "    </tr>\n",
       "    <tr>\n",
       "      <th>1</th>\n",
       "      <td>0.505514</td>\n",
       "      <td>5c42dbb822cdc00007a4bd1b</td>\n",
       "      <td>Bread Rugbrød Kohberg 6-Kerne</td>\n",
       "    </tr>\n",
       "    <tr>\n",
       "      <th>2</th>\n",
       "      <td>0.502951</td>\n",
       "      <td>5b8e64d46e167d0006a81829</td>\n",
       "      <td>Beetroot</td>\n",
       "    </tr>\n",
       "    <tr>\n",
       "      <th>3</th>\n",
       "      <td>0.440288</td>\n",
       "      <td>5ad76f881f0bb90007b41c29</td>\n",
       "      <td>Ørsted Roast beef</td>\n",
       "    </tr>\n",
       "  </tbody>\n",
       "</table>\n",
       "</div>"
      ],
      "text/plain": [
       "      proba                aliment_id                           name\n",
       "0  0.663112  5b3527386e167d0006a8166e                 Carots (100gr)\n",
       "1  0.505514  5c42dbb822cdc00007a4bd1b  Bread Rugbrød Kohberg 6-Kerne\n",
       "2  0.502951  5b8e64d46e167d0006a81829                       Beetroot\n",
       "3  0.440288  5ad76f881f0bb90007b41c29              Ørsted Roast beef"
      ]
     },
     "execution_count": 16,
     "metadata": {},
     "output_type": "execute_result"
    }
   ],
   "source": [
    "df = predict(\"12:10\", 2, n=4)\n",
    "# df = predict_aliment('5b25175e6e167d0006a815fe', \"06:20\", 0)\n",
    "pd.merge(df, aliments_ids, left_on='aliment_id', right_on=\"id\")[['proba', 'aliment_id', 'name']]"
   ]
  },
  {
   "cell_type": "code",
   "execution_count": null,
   "metadata": {},
   "outputs": [],
   "source": []
  }
 ],
 "metadata": {
  "kernelspec": {
   "display_name": "Python 3",
   "language": "python",
   "name": "python3"
  },
  "language_info": {
   "codemirror_mode": {
    "name": "ipython",
    "version": 3
   },
   "file_extension": ".py",
   "mimetype": "text/x-python",
   "name": "python",
   "nbconvert_exporter": "python",
   "pygments_lexer": "ipython3",
   "version": "3.7.3"
  }
 },
 "nbformat": 4,
 "nbformat_minor": 4
}
